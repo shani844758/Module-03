{
  "nbformat": 4,
  "nbformat_minor": 0,
  "metadata": {
    "colab": {
      "provenance": []
    },
    "kernelspec": {
      "name": "python3",
      "display_name": "Python 3"
    },
    "language_info": {
      "name": "python"
    }
  },
  "cells": [
    {
      "cell_type": "markdown",
      "source": [],
      "metadata": {
        "id": "L09IwhDTI4Lx"
      }
    },
    {
      "cell_type": "markdown",
      "source": [
        "1.What is Python, and why is it popular ?\n",
        "~ Python is a programming language. It is popular becuase it is easy to learn and use, versatile, large community and have good ecosystem of libraries.\n",
        "\n",
        "2.What is an interpreter in Python ?\n",
        "~ An interpreter in Python is a program that reads and executes Python code line by line, converting it into machine code that your computer can understand and run.\n",
        "\n",
        "3.What are pre-defined keywords in Python ?\n",
        "~ Pre-defined keywords in Python are special reserved words that have a fixed meaning. You can not use them as names for variables or functions. e.g. if, else, True, False etc.\n",
        "\n",
        "4.Can keywords be used as variable names ?\n",
        "~ No, keywords cannot be used as variable names.\n",
        "\n",
        "5.What is mutability in Python ?\n",
        "~ Objects/container whose state or value can be changed after they are created is called mutable in python and the concept is called mutability.\n",
        "\n",
        "6.Why are lists mutable, but tuples are immutable ?\n",
        "~ Lists are mutable and tuples are immutable because:\n",
        "  >Lists are made to store data that can change. That is why Python allows\n",
        "   you to modify, add, or remove items in a list.\n",
        "  >Tuples are made to store fixed data. Python locks their contents so\n",
        "   they can’t be changed, which makes them safer and faster to use, especially when used as keys in dictionaries.\n",
        "\n",
        "7.What is the difference between “==” and “is” operators in Python ?\n",
        "~ \"is\" is identity operator, \"==\" is equality operator.  \n",
        "\n",
        "8.What are logical operators in Python ?\n",
        "~ Logical operators in Python are used to combine multiple conditions (True or False values).\n",
        "\n",
        "9.What is type casting in Python ?\n",
        "~ Type casting in Python means converting one data type into another.\n",
        "\n",
        "10.What is the difference between implicit and explicit type casting ?\n",
        "~ The difference between implicit and explicit type casting in Python is:\n",
        " >Implicit Type Casting - Python automatically converts one data type to another without your help.\n",
        " >Explicit Type Casting - You manually convert the data type using functions like int(), float(), str(), etc.\n",
        "\n",
        "11.What is the purpose of conditional statements in Python ?\n",
        "~ The purpose of conditional statements in Python is to control the flow of your program by making decisions based on conditions.\n",
        "\n",
        "12.How does the elif statement work ?\n",
        "~ How it works:\n",
        "  Python checks the if condition first.\n",
        "  If if is False, it checks the elif.\n",
        "  If elif is True, that block runs and the rest are skipped.\n",
        "  If all are False, the else block runs (if present).\n",
        "\n",
        "13.What is the difference between for and while loops ?\n",
        "~ Difference\n",
        "  >for loop\n",
        "   Used when you know how many times to loop.\n",
        "   Iterates over a sequence (like list, range, string).\n",
        "  >while loop\n",
        "   Used when you want to repeat until a condition becomes false.\n",
        "   You don’t always know how many times it will run.\n",
        "\n",
        "14.Describe a scenario where a while loop is more suitable than a for loop.\n",
        "~ Imagine an ATM system that allows a user to make multiple withdrawals, but it must keep checking if the user still has enough balance. You don’t know how many withdrawals the user will make — they may stop at any time, or the balance might run out.\n"
      ],
      "metadata": {
        "id": "_fYq24WUI6RQ"
      }
    },
    {
      "cell_type": "code",
      "source": [
        "#1.Write a Python program to print \"Hello, World!\n",
        "print(\"Hello, World!\")"
      ],
      "metadata": {
        "id": "uD2NBADdvMGv"
      },
      "execution_count": null,
      "outputs": []
    },
    {
      "cell_type": "code",
      "source": [
        "#2.Write a Python program that displays your name and age\n",
        "# Program to display name and age\n",
        "name = \"Shahil\"\n",
        "age = 25\n",
        "\n",
        "print(\"My name is\", name)\n",
        "print(\"I am\", age, \"years old.\")\n"
      ],
      "metadata": {
        "id": "rK7Abgqevrx2"
      },
      "execution_count": null,
      "outputs": []
    },
    {
      "cell_type": "code",
      "source": [
        "#3.Write code to print all the pre-defined keywords in Python using the keyword library.\n",
        "import keyword\n",
        "\n",
        "# Print all the Python keywords\n",
        "print(\"Python Keywords:\", keyword.kwlist)\n"
      ],
      "metadata": {
        "id": "2rXo1mHcwDt3"
      },
      "execution_count": null,
      "outputs": []
    },
    {
      "cell_type": "code",
      "source": [
        "#4.Write a program that checks if a given word is a Python keyword.\n",
        "import keyword\n",
        "word = input(\"Enter a word: \")\n",
        "print(f\"Is '{word}' a keyword? {keyword.iskeyword(word)}\")"
      ],
      "metadata": {
        "id": "7BJM3OkGwV5j"
      },
      "execution_count": null,
      "outputs": []
    },
    {
      "cell_type": "code",
      "source": [
        "#5.Create a list and tuple in Python, and demonstrate how attempting to change an element works differently for each.\n",
        "\n",
        "my_list = [1, 2, 3]\n",
        "print(\"Original List:\", my_list)\n",
        "\n",
        "my_list[0] = 100  # This is allowed as lists are mutable\n",
        "print(\"Modified List:\", my_list)\n",
        "\n",
        "my_tuple = (1, 2, 3)\n",
        "print(\"\\nOriginal Tuple:\", my_tuple)\n",
        "\n",
        "try:\n",
        "    my_tuple[0] = 100  # This will cause a TypeError\n",
        "except TypeError as e:\n",
        "    print(\"Error:\", e)\n"
      ],
      "metadata": {
        "id": "Bzh6jisMwnOm"
      },
      "execution_count": null,
      "outputs": []
    },
    {
      "cell_type": "code",
      "source": [
        "#6.Write a function to demonstrate the behavior of mutable and immutable arguments.\n",
        "a = [1, 2]    # Mutable list\n",
        "b = (1, 2)    # Immutable tuple\n",
        "\n",
        "a[0] = 9  # Works\n",
        "b[0] = 9  # Fails with error"
      ],
      "metadata": {
        "id": "oM8cbNF9ye3-"
      },
      "execution_count": 1,
      "outputs": []
    },
    {
      "cell_type": "code",
      "source": [
        "#7. Write a program that performs basic arithmetic operations on two user-input numbers.\n",
        "# Get input from user\n",
        "num1 = float(input(\"Enter first number: \"))\n",
        "num2 = float(input(\"Enter second number: \"))\n",
        "\n",
        "# Perform calculations\n",
        "addition = num1 + num2\n",
        "subtraction = num1 - num2\n",
        "multiplication = num1 * num2\n",
        "division = num1 / num2\n",
        "\n",
        "# Display results\n",
        "print(f\"\\n{num1} + {num2} = {addition:.2f}\")\n",
        "print(f\"{num1} - {num2} = {subtraction:.2f}\")\n",
        "print(f\"{num1} * {num2} = {multiplication:.2f}\")\n",
        "print(f\"{num1} / {num2} = {division:.2f}\")"
      ],
      "metadata": {
        "id": "gowFJO3jzy6W"
      },
      "execution_count": null,
      "outputs": []
    },
    {
      "cell_type": "code",
      "source": [
        "#8.Write a program to demonstrate the use of logical operators.\n",
        "# Function to demonstrate logical operators\n",
        "def logical_operators_demo(x, y):\n",
        "    print(f\"x = {x}, y = {y}\")\n",
        "\n",
        "    # Logical AND\n",
        "    print(\"x > 5 and y < 10:\", x > 5 and y < 10)\n",
        "\n",
        "    # Logical OR\n",
        "    print(\"x < 5 or y > 10:\", x < 5 or y > 10)\n",
        "\n",
        "    # Logical NOT\n",
        "    print(\"not (x > y):\", not (x > y))\n",
        "\n",
        "# Get user input for x and y\n",
        "x = int(input(\"Enter value for x: \"))\n",
        "y = int(input(\"Enter value for y: \"))\n",
        "\n",
        "# Call the function to demonstrate logical operators\n",
        "logical_operators_demo(x, y)"
      ],
      "metadata": {
        "id": "oVX4SPWx0mJj"
      },
      "execution_count": null,
      "outputs": []
    },
    {
      "cell_type": "code",
      "source": [
        "#9.Write a Python program to convert user input from string to integer, float, and boolean types.\n",
        "# Function to convert string input to different types\n",
        "def convert_input():\n",
        "    user_input = input(\"Enter a value: \")\n",
        "\n",
        "    # Convert to integer\n",
        "    try:\n",
        "        int_value = int(user_input)\n",
        "        print(\"Converted to integer:\", int_value)\n",
        "    except ValueError:\n",
        "        print(\"Cannot convert to integer.\")\n",
        "\n",
        "    # Convert to float\n",
        "    try:\n",
        "        float_value = float(user_input)\n",
        "        print(\"Converted to float:\", float_value)\n",
        "    except ValueError:\n",
        "        print(\"Cannot convert to float.\")\n",
        "\n",
        "    # Convert to boolean\n",
        "    bool_value = bool(user_input)\n",
        "    print(\"Converted to boolean:\", bool_value)\n",
        "\n",
        "# Call the function\n",
        "convert_input()"
      ],
      "metadata": {
        "id": "tt2655-R1XwD"
      },
      "execution_count": null,
      "outputs": []
    },
    {
      "cell_type": "code",
      "source": [
        "#10.Write code to demonstrate type casting with list elements.\n",
        "# Function to demonstrate type casting with list elements\n",
        "def type_casting_in_list():\n",
        "    # List with string elements\n",
        "    str_list = [\"1\", \"2\", \"3\", \"4\"]\n",
        "    print(\"Original list (strings):\", str_list)\n",
        "\n",
        "    # Type casting to integers\n",
        "    int_list = [int(i) for i in str_list]\n",
        "    print(\"List after casting to integers:\", int_list)\n",
        "\n",
        "    # Type casting to floats\n",
        "    float_list = [float(i) for i in str_list]\n",
        "    print(\"List after casting to floats:\", float_list)\n",
        "\n",
        "    # Type casting to booleans\n",
        "    bool_list = [bool(i) for i in str_list]\n",
        "    print(\"List after casting to booleans:\", bool_list)\n",
        "\n",
        "# Call the function to demonstrate type casting\n",
        "type_casting_in_list()"
      ],
      "metadata": {
        "id": "nOCGXHh61uny"
      },
      "execution_count": null,
      "outputs": []
    },
    {
      "cell_type": "code",
      "source": [
        "#11.Write a program that checks if a number is positive, negative, or zero.\n",
        "# Function to check if a number is positive, negative, or zero\n",
        "def check_number():\n",
        "    num = float(input(\"Enter a number: \"))\n",
        "\n",
        "    if num > 0:\n",
        "        print(\"The number is positive.\")\n",
        "    elif num < 0:\n",
        "        print(\"The number is negative.\")\n",
        "    else:\n",
        "        print(\"The number is zero.\")\n",
        "\n",
        "# Call the function\n",
        "check_number()"
      ],
      "metadata": {
        "id": "9Ut_WZMg13ny"
      },
      "execution_count": null,
      "outputs": []
    },
    {
      "cell_type": "code",
      "source": [
        "#12.Write a for loop to print numbers from 1 to 10.\n",
        "# For loop to print numbers from 1 to 10\n",
        "for i in range(1, 11):\n",
        "    print(i)"
      ],
      "metadata": {
        "id": "9zIM8YKi2B4i"
      },
      "execution_count": null,
      "outputs": []
    },
    {
      "cell_type": "code",
      "source": [
        "# 13.Write a Python program to find the sum of all even numbers between 1 and 50.\n",
        "total_sum = 0\n",
        "\n",
        "# Loop through numbers from 1 to 50\n",
        "for i in range(1, 51):\n",
        "    if i % 2 == 0:  # Check if the number is even\n",
        "        total_sum += i\n",
        "\n",
        "# Print the sum of even numbers\n",
        "print(\"Sum of all even numbers between 1 and 50:\", total_sum)\n"
      ],
      "metadata": {
        "id": "vJPz0KO-2JhK"
      },
      "execution_count": null,
      "outputs": []
    },
    {
      "cell_type": "code",
      "source": [
        "#14.Write a program to reverse a string using a while loop.\n",
        "\n",
        "def reverse_string(input_string):\n",
        "    reversed_string = \"\"\n",
        "    i = len(input_string) - 1  # Start from the last character\n",
        "\n",
        "    # While loop to reverse the string\n",
        "    while i >= 0:\n",
        "        reversed_string += input_string[i]\n",
        "        i -= 1\n",
        "\n",
        "    return reversed_string\n",
        "\n",
        "# Get user input\n",
        "user_input = input(\"Enter a string: \")\n",
        "\n",
        "# Reverse the string and display the result\n",
        "reversed_str = reverse_string(user_input)\n",
        "print(\"Reversed string:\", reversed_str)"
      ],
      "metadata": {
        "id": "vUuC0SoH2liS"
      },
      "execution_count": null,
      "outputs": []
    },
    {
      "cell_type": "code",
      "source": [
        "#15.Write a Python program to calculate the factorial of a number provided by the user using a while loop.\n",
        "\n",
        "def factorial(number):\n",
        "    result = 1\n",
        "    while number > 0:\n",
        "        result *= number\n",
        "        number -= 1\n",
        "    return result\n",
        "\n",
        "# Get user input\n",
        "num = int(input(\"Enter a number: \"))\n",
        "\n",
        "# Calculate and display the factorial\n",
        "fact = factorial(num)\n",
        "print(f\"The factorial of {num} is {fact}\")\n"
      ],
      "metadata": {
        "id": "t9aOVFi52yTB"
      },
      "execution_count": null,
      "outputs": []
    }
  ]
}